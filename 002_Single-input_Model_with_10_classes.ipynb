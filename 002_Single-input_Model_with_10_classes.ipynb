{
 "cells": [
  {
   "cell_type": "markdown",
   "metadata": {},
   "source": [
    "# Single-input Model with 10 Classes"
   ]
  },
  {
   "cell_type": "markdown",
   "metadata": {},
   "source": [
    "Step01: Import library"
   ]
  },
  {
   "cell_type": "code",
   "execution_count": 19,
   "metadata": {
    "collapsed": true
   },
   "outputs": [],
   "source": [
    "from keras.models import Sequential\n",
    "from keras.layers import Dense\n",
    "from keras.models import Model\n",
    "import numpy as np\n",
    "import keras"
   ]
  },
  {
   "cell_type": "markdown",
   "metadata": {},
   "source": [
    "Step02: Create data"
   ]
  },
  {
   "cell_type": "code",
   "execution_count": 20,
   "metadata": {
    "collapsed": true
   },
   "outputs": [],
   "source": [
    "data = np.random.random((1000, 100))\n",
    "labels = np.random.randint(10, size=(1000, 1))"
   ]
  },
  {
   "cell_type": "markdown",
   "metadata": {},
   "source": [
    "Step03: Create model"
   ]
  },
  {
   "cell_type": "code",
   "execution_count": 21,
   "metadata": {},
   "outputs": [],
   "source": [
    "model = Sequential()\n",
    "model.add(Dense(32, activation='relu', input_dim=100))\n",
    "model.add(Dense(10, activation='sigmoid'))\n",
    "model.compile(optimizer='rmsprop',\n",
    "             loss='binary_crossentropy',\n",
    "             metrics=['accuracy'])\n",
    "\n",
    "#convert labels to one-hot\n",
    "one_hot_labels = keras.utils.to_categorical(labels, num_classes=10)"
   ]
  },
  {
   "cell_type": "markdown",
   "metadata": {},
   "source": [
    "Step04: Training"
   ]
  },
  {
   "cell_type": "code",
   "execution_count": 22,
   "metadata": {},
   "outputs": [
    {
     "name": "stdout",
     "output_type": "stream",
     "text": [
      "Epoch 1/10\n",
      "1000/1000 [==============================] - 0s - loss: 0.5106 - acc: 0.7789     \n",
      "Epoch 2/10\n",
      "1000/1000 [==============================] - 0s - loss: 0.3382 - acc: 0.9000     \n",
      "Epoch 3/10\n",
      "1000/1000 [==============================] - 0s - loss: 0.3298 - acc: 0.9000     \n",
      "Epoch 4/10\n",
      "1000/1000 [==============================] - 0s - loss: 0.3284 - acc: 0.9000     \n",
      "Epoch 5/10\n",
      "1000/1000 [==============================] - 0s - loss: 0.3271 - acc: 0.9000     \n",
      "Epoch 6/10\n",
      "1000/1000 [==============================] - 0s - loss: 0.3260 - acc: 0.9000     \n",
      "Epoch 7/10\n",
      "1000/1000 [==============================] - 0s - loss: 0.3250 - acc: 0.9000     \n",
      "Epoch 8/10\n",
      "1000/1000 [==============================] - 0s - loss: 0.3237 - acc: 0.9000     \n",
      "Epoch 9/10\n",
      "1000/1000 [==============================] - ETA: 0s - loss: 0.3228 - acc: 0.900 - 0s - loss: 0.3230 - acc: 0.9000     \n",
      "Epoch 10/10\n",
      "1000/1000 [==============================] - 0s - loss: 0.3221 - acc: 0.9000     \n"
     ]
    },
    {
     "data": {
      "text/plain": [
       "<keras.callbacks.History at 0xee235c0>"
      ]
     },
     "execution_count": 22,
     "metadata": {},
     "output_type": "execute_result"
    }
   ],
   "source": [
    "model.fit(data, one_hot_labels, epochs=10, batch_size=32)"
   ]
  }
 ],
 "metadata": {
  "kernelspec": {
   "display_name": "Python 3",
   "language": "python",
   "name": "python3"
  },
  "language_info": {
   "codemirror_mode": {
    "name": "ipython",
    "version": 3
   },
   "file_extension": ".py",
   "mimetype": "text/x-python",
   "name": "python",
   "nbconvert_exporter": "python",
   "pygments_lexer": "ipython3",
   "version": "3.6.2"
  }
 },
 "nbformat": 4,
 "nbformat_minor": 2
}
