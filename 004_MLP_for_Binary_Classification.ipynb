{
 "cells": [
  {
   "cell_type": "markdown",
   "metadata": {},
   "source": [
    "# MLP for Binary Classification"
   ]
  },
  {
   "cell_type": "markdown",
   "metadata": {},
   "source": [
    "Step01: Import labrary"
   ]
  },
  {
   "cell_type": "code",
   "execution_count": 6,
   "metadata": {},
   "outputs": [],
   "source": [
    "import numpy as np\n",
    "from keras.models import Sequential\n",
    "from keras.layers import Dense, Dropout\n",
    "\n",
    "from keras.utils import plot_model"
   ]
  },
  {
   "cell_type": "markdown",
   "metadata": {},
   "source": [
    "Step02: Create data"
   ]
  },
  {
   "cell_type": "code",
   "execution_count": 7,
   "metadata": {
    "collapsed": true
   },
   "outputs": [],
   "source": [
    "# Generate dummy data\n",
    "#Traning data\n",
    "x_train = np.random.random((1000, 20))\n",
    "y_train = np.random.randint(2, size=(1000, 1))\n",
    "\n",
    "#Test data\n",
    "x_test = np.random.random((100, 20))\n",
    "y_test = np.random.randint(2, size=(100, 1))"
   ]
  },
  {
   "cell_type": "markdown",
   "metadata": {},
   "source": [
    "Step03: Create model"
   ]
  },
  {
   "cell_type": "code",
   "execution_count": 8,
   "metadata": {
    "collapsed": true
   },
   "outputs": [],
   "source": [
    "model = Sequential()\n",
    "model.add(Dense(64, input_dim=20, activation='relu'))\n",
    "model.add(Dropout(0.5))\n",
    "model.add(Dense(64, activation='relu'))\n",
    "model.add(Dropout(0.5))\n",
    "model.add(Dense(1, activation='sigmoid'))"
   ]
  },
  {
   "cell_type": "markdown",
   "metadata": {},
   "source": [
    "Step04: Training"
   ]
  },
  {
   "cell_type": "code",
   "execution_count": 9,
   "metadata": {},
   "outputs": [
    {
     "name": "stdout",
     "output_type": "stream",
     "text": [
      "Epoch 1/20\n",
      "1000/1000 [==============================] - 0s - loss: 0.7108 - acc: 0.5270     \n",
      "Epoch 2/20\n",
      "1000/1000 [==============================] - 0s - loss: 0.7175 - acc: 0.4970     \n",
      "Epoch 3/20\n",
      "1000/1000 [==============================] - 0s - loss: 0.7105 - acc: 0.4890     \n",
      "Epoch 4/20\n",
      "1000/1000 [==============================] - 0s - loss: 0.7036 - acc: 0.4990     \n",
      "Epoch 5/20\n",
      "1000/1000 [==============================] - 0s - loss: 0.7075 - acc: 0.5000     \n",
      "Epoch 6/20\n",
      "1000/1000 [==============================] - 0s - loss: 0.7006 - acc: 0.5150     \n",
      "Epoch 7/20\n",
      "1000/1000 [==============================] - 0s - loss: 0.7088 - acc: 0.4890     \n",
      "Epoch 8/20\n",
      "1000/1000 [==============================] - 0s - loss: 0.6902 - acc: 0.5450     \n",
      "Epoch 9/20\n",
      "1000/1000 [==============================] - 0s - loss: 0.6956 - acc: 0.5190     \n",
      "Epoch 10/20\n",
      "1000/1000 [==============================] - 0s - loss: 0.6986 - acc: 0.4870     \n",
      "Epoch 11/20\n",
      "1000/1000 [==============================] - 0s - loss: 0.7001 - acc: 0.4840     \n",
      "Epoch 12/20\n",
      "1000/1000 [==============================] - 0s - loss: 0.6988 - acc: 0.4930     \n",
      "Epoch 13/20\n",
      "1000/1000 [==============================] - 0s - loss: 0.6960 - acc: 0.5040     \n",
      "Epoch 14/20\n",
      "1000/1000 [==============================] - 0s - loss: 0.6941 - acc: 0.5190     \n",
      "Epoch 15/20\n",
      "1000/1000 [==============================] - 0s - loss: 0.6963 - acc: 0.5100     \n",
      "Epoch 16/20\n",
      "1000/1000 [==============================] - 0s - loss: 0.6927 - acc: 0.5310     \n",
      "Epoch 17/20\n",
      "1000/1000 [==============================] - 0s - loss: 0.6889 - acc: 0.5210     \n",
      "Epoch 18/20\n",
      "1000/1000 [==============================] - 0s - loss: 0.6927 - acc: 0.5330     \n",
      "Epoch 19/20\n",
      "1000/1000 [==============================] - 0s - loss: 0.6956 - acc: 0.5110     \n",
      "Epoch 20/20\n",
      "1000/1000 [==============================] - 0s - loss: 0.6925 - acc: 0.5110     \n",
      "100/100 [==============================] - 0s\n"
     ]
    }
   ],
   "source": [
    "model.compile(loss='binary_crossentropy',\n",
    "              optimizer='rmsprop',\n",
    "              metrics=['accuracy'])\n",
    "model.fit(x_train, y_train,\n",
    "          epochs=20,\n",
    "          batch_size=128)\n",
    "score = model.evaluate(x_test, y_test, batch_size=128)"
   ]
  },
  {
   "cell_type": "code",
   "execution_count": 10,
   "metadata": {},
   "outputs": [],
   "source": [
    "#predict(self, x, batch_size=32, verbose=0)\n",
    "#pre = model.predict(x_test, batch_size=128, verbose=0)\n",
    "#print(pre)"
   ]
  }
 ],
 "metadata": {
  "kernelspec": {
   "display_name": "Python 3",
   "language": "python",
   "name": "python3"
  },
  "language_info": {
   "codemirror_mode": {
    "name": "ipython",
    "version": 3
   },
   "file_extension": ".py",
   "mimetype": "text/x-python",
   "name": "python",
   "nbconvert_exporter": "python",
   "pygments_lexer": "ipython3",
   "version": "3.6.2"
  }
 },
 "nbformat": 4,
 "nbformat_minor": 2
}
