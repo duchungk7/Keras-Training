{
 "cells": [
  {
   "cell_type": "markdown",
   "metadata": {},
   "source": [
    "# Sequence Classification with LSTM"
   ]
  },
  {
   "cell_type": "markdown",
   "metadata": {},
   "source": [
    "Step01: Import Library"
   ]
  },
  {
   "cell_type": "code",
   "execution_count": 7,
   "metadata": {},
   "outputs": [],
   "source": [
    "from keras.models import Sequential\n",
    "from keras.layers import Dense, Dropout\n",
    "from keras.layers import Embedding\n",
    "from keras.layers import LSTM\n",
    "\n",
    "import numpy as np"
   ]
  },
  {
   "cell_type": "markdown",
   "metadata": {},
   "source": [
    "Step02: Create data"
   ]
  },
  {
   "cell_type": "code",
   "execution_count": 8,
   "metadata": {
    "collapsed": true
   },
   "outputs": [],
   "source": [
    "# Generate dummy data\n",
    "#Traning data\n",
    "x_train = np.random.random((1000, 20))\n",
    "y_train = np.random.randint(2, size=(1000, 1))\n",
    "\n",
    "#Test data\n",
    "x_test = np.random.random((100, 20))\n",
    "y_test = np.random.randint(2, size=(100, 1))\n",
    "\n",
    "\n",
    "max_features = len(x_train)\n",
    "embedding_size = 128\n",
    "out_size = len(y_train) + 1"
   ]
  },
  {
   "cell_type": "markdown",
   "metadata": {},
   "source": [
    "Step03: Create model"
   ]
  },
  {
   "cell_type": "code",
   "execution_count": 9,
   "metadata": {},
   "outputs": [],
   "source": [
    "model = Sequential()\n",
    "model.add(Embedding(input_dim=max_features,\n",
    "                    output_dim=embedding_size,\n",
    "                    mask_zero=True))\n",
    "model.add(LSTM(128))\n",
    "model.add(Dropout(0.5))\n",
    "model.add(Dense(1, activation='sigmoid'))"
   ]
  },
  {
   "cell_type": "markdown",
   "metadata": {},
   "source": [
    "Step04: Training"
   ]
  },
  {
   "cell_type": "code",
   "execution_count": 10,
   "metadata": {},
   "outputs": [
    {
     "name": "stdout",
     "output_type": "stream",
     "text": [
      "Epoch 1/10\n",
      "1000/1000 [==============================] - 2s - loss: 0.6959 - acc: 0.5010     \n",
      "Epoch 2/10\n",
      "1000/1000 [==============================] - 0s - loss: 0.6952 - acc: 0.4910     \n",
      "Epoch 3/10\n",
      "1000/1000 [==============================] - 0s - loss: 0.6961 - acc: 0.4910     \n",
      "Epoch 4/10\n",
      "1000/1000 [==============================] - 1s - loss: 0.6949 - acc: 0.4920     \n",
      "Epoch 5/10\n",
      "1000/1000 [==============================] - 1s - loss: 0.6944 - acc: 0.5160     \n",
      "Epoch 6/10\n",
      "1000/1000 [==============================] - 0s - loss: 0.6935 - acc: 0.5240     \n",
      "Epoch 7/10\n",
      "1000/1000 [==============================] - 0s - loss: 0.6946 - acc: 0.5140     \n",
      "Epoch 8/10\n",
      "1000/1000 [==============================] - 0s - loss: 0.6940 - acc: 0.5070     \n",
      "Epoch 9/10\n",
      "1000/1000 [==============================] - 0s - loss: 0.6942 - acc: 0.5020     \n",
      "Epoch 10/10\n",
      "1000/1000 [==============================] - 1s - loss: 0.6942 - acc: 0.5010     \n",
      "100/100 [==============================] - 0s     \n"
     ]
    }
   ],
   "source": [
    "model.compile(loss='binary_crossentropy',\n",
    "              optimizer='rmsprop',\n",
    "              metrics=['accuracy'])\n",
    "\n",
    "model.fit(x_train, y_train, batch_size=16, epochs=10)\n",
    "score = model.evaluate(x_test, y_test, batch_size=16)"
   ]
  }
 ],
 "metadata": {
  "kernelspec": {
   "display_name": "Python 3",
   "language": "python",
   "name": "python3"
  },
  "language_info": {
   "codemirror_mode": {
    "name": "ipython",
    "version": 3
   },
   "file_extension": ".py",
   "mimetype": "text/x-python",
   "name": "python",
   "nbconvert_exporter": "python",
   "pygments_lexer": "ipython3",
   "version": "3.6.2"
  }
 },
 "nbformat": 4,
 "nbformat_minor": 2
}
