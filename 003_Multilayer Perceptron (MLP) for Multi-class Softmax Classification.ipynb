{
 "cells": [
  {
   "cell_type": "markdown",
   "metadata": {},
   "source": [
    "# Multilayer Perceptron (MLP) for Multi-class Softmax Classification"
   ]
  },
  {
   "cell_type": "markdown",
   "metadata": {},
   "source": [
    "Step01: Import library"
   ]
  },
  {
   "cell_type": "code",
   "execution_count": 26,
   "metadata": {
    "collapsed": true
   },
   "outputs": [],
   "source": [
    "import keras\n",
    "from keras.models import Sequential\n",
    "from keras.layers import Dense, Dropout, Activation\n",
    "from keras.optimizers import SGD\n",
    "\n",
    "import numpy as np"
   ]
  },
  {
   "cell_type": "markdown",
   "metadata": {},
   "source": [
    "Step02: Create data"
   ]
  },
  {
   "cell_type": "code",
   "execution_count": 27,
   "metadata": {
    "collapsed": true
   },
   "outputs": [],
   "source": [
    "# Generate dummy data\n",
    "#Training data\n",
    "x_train = np.random.random((1000, 20))\n",
    "y_train = keras.utils.to_categorical(np.random.randint(10, size=(1000, 1)), num_classes=10)\n",
    "\n",
    "#Test data\n",
    "x_test = np.random.random((100, 20))\n",
    "y_test = keras.utils.to_categorical(np.random.randint(10, size=(100, 1)), num_classes=10)"
   ]
  },
  {
   "cell_type": "markdown",
   "metadata": {},
   "source": [
    "Step03: Create model"
   ]
  },
  {
   "cell_type": "code",
   "execution_count": 28,
   "metadata": {
    "collapsed": true
   },
   "outputs": [],
   "source": [
    "model = Sequential()\n",
    "# Dense(64) is a fully-connected layer with 64 hidden units.\n",
    "# in the first layer, you must specify the expected input data shape:\n",
    "# here, 20-dimensional vectors.\n",
    "model.add(Dense(64, activation='relu', input_dim=20))\n",
    "model.add(Dropout(0.5))\n",
    "model.add(Dense(64, activation='relu'))\n",
    "model.add(Dropout(0.5))\n",
    "model.add(Dense(10, activation='softmax'))"
   ]
  },
  {
   "cell_type": "markdown",
   "metadata": {},
   "source": [
    "Step04: Training"
   ]
  },
  {
   "cell_type": "code",
   "execution_count": 29,
   "metadata": {},
   "outputs": [
    {
     "name": "stdout",
     "output_type": "stream",
     "text": [
      "Epoch 1/20\n",
      "1000/1000 [==============================] - 0s - loss: 2.3795 - acc: 0.0920     \n",
      "Epoch 2/20\n",
      "1000/1000 [==============================] - 0s - loss: 2.3687 - acc: 0.0930     \n",
      "Epoch 3/20\n",
      "1000/1000 [==============================] - 0s - loss: 2.3427 - acc: 0.0920     \n",
      "Epoch 4/20\n",
      "1000/1000 [==============================] - 0s - loss: 2.3181 - acc: 0.1080     \n",
      "Epoch 5/20\n",
      "1000/1000 [==============================] - 0s - loss: 2.3188 - acc: 0.1110     \n",
      "Epoch 6/20\n",
      "1000/1000 [==============================] - 0s - loss: 2.3263 - acc: 0.0940     \n",
      "Epoch 7/20\n",
      "1000/1000 [==============================] - 0s - loss: 2.3115 - acc: 0.1070     \n",
      "Epoch 8/20\n",
      "1000/1000 [==============================] - 0s - loss: 2.3142 - acc: 0.1000     \n",
      "Epoch 9/20\n",
      "1000/1000 [==============================] - 0s - loss: 2.2966 - acc: 0.1190     \n",
      "Epoch 10/20\n",
      "1000/1000 [==============================] - 0s - loss: 2.3084 - acc: 0.1090     \n",
      "Epoch 11/20\n",
      "1000/1000 [==============================] - 0s - loss: 2.3071 - acc: 0.0940     \n",
      "Epoch 12/20\n",
      "1000/1000 [==============================] - 0s - loss: 2.2999 - acc: 0.1150     \n",
      "Epoch 13/20\n",
      "1000/1000 [==============================] - 0s - loss: 2.3024 - acc: 0.1010     \n",
      "Epoch 14/20\n",
      "1000/1000 [==============================] - 0s - loss: 2.3003 - acc: 0.1240     \n",
      "Epoch 15/20\n",
      "1000/1000 [==============================] - 0s - loss: 2.3064 - acc: 0.1020     \n",
      "Epoch 16/20\n",
      "1000/1000 [==============================] - 0s - loss: 2.2991 - acc: 0.1210     \n",
      "Epoch 17/20\n",
      "1000/1000 [==============================] - 0s - loss: 2.3035 - acc: 0.1200     \n",
      "Epoch 18/20\n",
      "1000/1000 [==============================] - 0s - loss: 2.2971 - acc: 0.1200     \n",
      "Epoch 19/20\n",
      "1000/1000 [==============================] - 0s - loss: 2.2954 - acc: 0.1210     \n",
      "Epoch 20/20\n",
      "1000/1000 [==============================] - 0s - loss: 2.2983 - acc: 0.1090     \n"
     ]
    },
    {
     "data": {
      "text/plain": [
       "<keras.callbacks.History at 0x17c2ca20>"
      ]
     },
     "execution_count": 29,
     "metadata": {},
     "output_type": "execute_result"
    }
   ],
   "source": [
    "sgd = SGD(lr=0.01, decay=1e-6, momentum=0.9, nesterov=True)\n",
    "model.compile(loss='categorical_crossentropy',\n",
    "              optimizer=sgd,\n",
    "              metrics=['accuracy'])\n",
    "\n",
    "model.fit(x_train, y_train,\n",
    "          epochs=20,\n",
    "          batch_size=128)"
   ]
  },
  {
   "cell_type": "code",
   "execution_count": 30,
   "metadata": {},
   "outputs": [
    {
     "name": "stdout",
     "output_type": "stream",
     "text": [
      "100/100 [==============================] - 0s\n",
      "[2.2891304492950439, 0.090000003576278687]\n"
     ]
    }
   ],
   "source": [
    "score = model.evaluate(X_test, y_test, batch_size=128)\n",
    "print(score)"
   ]
  }
 ],
 "metadata": {
  "kernelspec": {
   "display_name": "Python 3",
   "language": "python",
   "name": "python3"
  },
  "language_info": {
   "codemirror_mode": {
    "name": "ipython",
    "version": 3
   },
   "file_extension": ".py",
   "mimetype": "text/x-python",
   "name": "python",
   "nbconvert_exporter": "python",
   "pygments_lexer": "ipython3",
   "version": "3.6.2"
  }
 },
 "nbformat": 4,
 "nbformat_minor": 2
}
